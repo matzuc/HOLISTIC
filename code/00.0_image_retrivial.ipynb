{
 "cells": [
  {
   "cell_type": "code",
   "execution_count": 1,
   "metadata": {},
   "outputs": [],
   "source": [
    "\n",
    "import ee\n",
    "import geemap\n",
    "import os\n",
    "import geopandas as gpd\n"
   ]
  },
  {
   "cell_type": "code",
   "execution_count": null,
   "metadata": {},
   "outputs": [],
   "source": []
  },
  {
   "cell_type": "markdown",
   "metadata": {},
   "source": [
    "ambiente gee per windows"
   ]
  },
  {
   "cell_type": "code",
   "execution_count": 3,
   "metadata": {},
   "outputs": [],
   "source": [
    "# load geojson\n",
    "area = 'mnt/d/Dropbox/projects/HOLISTIC/GIS/area.geojson'"
   ]
  },
  {
   "cell_type": "code",
   "execution_count": 3,
   "metadata": {},
   "outputs": [
    {
     "data": {
      "application/vnd.jupyter.widget-view+json": {
       "model_id": "b22c976c29904f33b5fc5f79fa16587c",
       "version_major": 2,
       "version_minor": 0
      },
      "text/plain": [
       "Map(center=[-74.70326637811245, 163.49524695258341], controls=(WidgetControl(options=['position', 'transparent…"
      ]
     },
     "metadata": {},
     "output_type": "display_data"
    }
   ],
   "source": [
    "area_geojson = 'D:/Dropbox/projects/HOLISTIC/GIS/area.geojson'\n",
    "\n",
    "# Caricare il file GeoJSON come GeoDataFrame\n",
    "gdf = gpd.read_file(area_geojson)\n",
    "\n",
    "# Ottenere il centroide dell'area per centrare la mappa\n",
    "centroid = gdf.geometry.centroid[0]\n",
    "center_lat = centroid.y\n",
    "center_lon = centroid.x\n",
    "\n",
    "# Creare una mappa centrata sull'area\n",
    "m = geemap.Map(center=(center_lat, center_lon), zoom=12)\n",
    "\n",
    "# Aggiungere il layer GeoJSON alla mappa\n",
    "m.add_gdf(gdf, layer_name='Area')\n",
    "\n",
    "# Mostrare la mappa\n",
    "m\n"
   ]
  },
  {
   "cell_type": "code",
   "execution_count": 4,
   "metadata": {},
   "outputs": [],
   "source": [
    "start_date = '2022-12-10'\n",
    "end_date = '2022-12-26'\n",
    "\n",
    "\n",
    "\n",
    "# extract the days from the start date\n",
    "start_date = ee.Date(start_date)\n",
    "\n",
    "# add 1 week to the start date\n",
    "#end_date = start_date.advance(8, 'week')\n",
    "end_date = ee.Date(end_date)\n"
   ]
  },
  {
   "cell_type": "code",
   "execution_count": 9,
   "metadata": {},
   "outputs": [],
   "source": [
    "# Ottenere la bounding box del GeoDataFrame\n",
    "bounds = gdf.total_bounds  # [minx, miny, maxx, maxy]\n",
    "\n",
    "# Definire il ROI (Regione di Interesse) dalla bounding box\n",
    "roi = ee.Geometry.BBox(bounds[0], bounds[1], bounds[2], bounds[3])\n"
   ]
  },
  {
   "cell_type": "code",
   "execution_count": 18,
   "metadata": {},
   "outputs": [
    {
     "name": "stdout",
     "output_type": "stream",
     "text": [
      "Number of images in the collection:  5\n"
     ]
    }
   ],
   "source": [
    "\n",
    "# get the image collection\n",
    "# select collection s2 level2A\n",
    "s2col = ee.ImageCollection('COPERNICUS/S2_HARMONIZED') \\\n",
    "    .filterBounds(roi) \\\n",
    "    .filter(ee.Filter.lt('CLOUDY_PIXEL_PERCENTAGE', 20)) \\\n",
    "    .filterDate(start_date, end_date) \n",
    "    \n",
    "\n",
    "# print the number of images in the collection\n",
    "print('Number of images in the collection: ', s2col.size().getInfo())\n"
   ]
  },
  {
   "cell_type": "code",
   "execution_count": 25,
   "metadata": {},
   "outputs": [],
   "source": [
    "from datetime import datetime\n"
   ]
  },
  {
   "cell_type": "code",
   "execution_count": 27,
   "metadata": {},
   "outputs": [
    {
     "name": "stdout",
     "output_type": "stream",
     "text": [
      "2022-12-18 21:27:14\n",
      "2022-12-18 21:27:03\n",
      "2022-12-18 21:27:08\n",
      "2022-12-18 21:26:56\n",
      "2022-12-24 21:46:59\n"
     ]
    }
   ],
   "source": [
    "# Funzione per estrarre la data e stamparla in formato leggibile\n",
    "def print_dates(image):\n",
    "    # Ottieni la data dell'immagine\n",
    "    date_info = ee.Date(image.get('system:time_start')).getInfo()\n",
    "    timestamp = date_info['value']  # Ottieni il timestamp corretto\n",
    "    # Converte in un formato leggibile\n",
    "    readable_date = datetime.utcfromtimestamp(timestamp / 1000).strftime('%Y-%m-%d %H:%M:%S')\n",
    "    print(readable_date)\n",
    "    \n",
    "# Applica la funzione a tutte le immagini della collezione\n",
    "s2col.aggregate_array('system:time_start').getInfo()\n",
    "\n",
    "# Stampa le date in formato leggibile\n",
    "image_list = s2col.toList(s2col.size())\n",
    "for i in range(image_list.size().getInfo()):\n",
    "    img = ee.Image(image_list.get(i))\n",
    "    print_dates(img)"
   ]
  },
  {
   "cell_type": "code",
   "execution_count": 31,
   "metadata": {},
   "outputs": [
    {
     "data": {
      "application/vnd.jupyter.widget-view+json": {
       "model_id": "b22c976c29904f33b5fc5f79fa16587c",
       "version_major": 2,
       "version_minor": 0
      },
      "text/plain": [
       "Map(bottom=429466.0, center=[-74.61016555284752, 163.24756622314456], controls=(WidgetControl(options=['positi…"
      ]
     },
     "metadata": {},
     "output_type": "display_data"
    }
   ],
   "source": [
    "# Funzione per visualizzare ciascuna immagine nella collezione\n",
    "def add_images_to_map(image):\n",
    "    # Ottiene la data dell'immagine per usarla nel nome del layer\n",
    "    date = ee.Date(image.get('system:time_start')).format('YYYY-MM-dd').getInfo()\n",
    "    # Aggiungi l'immagine alla mappa con una visualizzazione standard di Sentinel-2\n",
    "    visualization = {'bands': ['B4', 'B3', 'B2'], 'min': 0, 'max': 3000, 'gamma': 1.4}\n",
    "    m.addLayer(image.clip(roi), visualization, f'Sentinel-2 {date}')\n",
    "\n",
    "# Converte la collezione in una lista e aggiunge ciascuna immagine alla mappa\n",
    "image_list = s2col.toList(s2col.size())\n",
    "for i in range(image_list.size().getInfo()):\n",
    "    img = ee.Image(image_list.get(i))\n",
    "    add_images_to_map(img)\n",
    "\n",
    "# Mostra la mappa\n",
    "m"
   ]
  },
  {
   "cell_type": "code",
   "execution_count": 34,
   "metadata": {},
   "outputs": [
    {
     "data": {
      "application/vnd.jupyter.widget-view+json": {
       "model_id": "b22c976c29904f33b5fc5f79fa16587c",
       "version_major": 2,
       "version_minor": 0
      },
      "text/plain": [
       "Map(bottom=54209.0, center=[-74.98929798403441, 163.27606201171878], controls=(WidgetControl(options=['positio…"
      ]
     },
     "metadata": {},
     "output_type": "display_data"
    }
   ],
   "source": [
    "# take the first image of the collection\n",
    "first = s2col.first()\n",
    "first = first.clip(roi)\n",
    "\n",
    "\n",
    "m.addLayer(first, {'bands': ['B4', 'B3', 'B2'], 'min': 0, 'max': 3000}, 'first')\n",
    "m"
   ]
  },
  {
   "cell_type": "code",
   "execution_count": 40,
   "metadata": {},
   "outputs": [
    {
     "data": {
      "application/vnd.jupyter.widget-view+json": {
       "model_id": "84f9eef3f41c405fb330eaab35dc499c",
       "version_major": 2,
       "version_minor": 0
      },
      "text/plain": [
       "Map(center=[-74.70279681889666, 163.48757479546], controls=(WidgetControl(options=['position', 'transparent_bg…"
      ]
     },
     "metadata": {},
     "output_type": "display_data"
    }
   ],
   "source": [
    "# Prendi la seconda immagine della collezione\n",
    "second = ee.Image(image_list.get(3))  # Gli indici partono da 0, quindi 1 per la seconda immagine\n",
    "second = second.clip(roi)\n",
    "\n",
    "# Crea la mappa\n",
    "m = geemap.Map(center=[(bounds[1] + bounds[3]) / 2, (bounds[0] + bounds[2]) / 2], zoom=12)\n",
    "\n",
    "# Aggiungi la seconda immagine alla mappa (Sentinel-2 RGB)\n",
    "m.addLayer(second, {'bands': ['B4', 'B3', 'B2'], 'min': 0, 'max': 10000}, 'Second Sentinel-2 Image')\n",
    "m.addLayer(roi, {'color': 'FF0000'}, 'ROI')\n",
    "\n",
    "# Mostra la mappa\n",
    "m"
   ]
  },
  {
   "cell_type": "code",
   "execution_count": 41,
   "metadata": {},
   "outputs": [
    {
     "name": "stdout",
     "output_type": "stream",
     "text": [
      "Number of images in the collection:  4\n"
     ]
    }
   ],
   "source": [
    "s1col = ee.ImageCollection('COPERNICUS/S1_GRD') \\\n",
    "    .filterBounds(roi) \\\n",
    "    .filterDate(start_date, end_date) \\\n",
    "    .filter(ee.Filter.eq('instrumentMode', 'IW'))\n",
    "\n",
    "print('Number of images in the collection: ', s1col.size().getInfo())"
   ]
  },
  {
   "cell_type": "code",
   "execution_count": 55,
   "metadata": {},
   "outputs": [
    {
     "name": "stdout",
     "output_type": "stream",
     "text": [
      "2022-12-12 15:38:07\n",
      "2022-12-14 10:30:29\n",
      "2022-12-15 16:02:20\n",
      "2022-12-24 15:38:06\n",
      "2022-12-12 15:38:07\n",
      "2022-12-14 10:30:29\n",
      "2022-12-15 16:02:20\n",
      "2022-12-24 15:38:06\n"
     ]
    }
   ],
   "source": [
    "# print the dates\n",
    "image_list = s1col.toList(s1col.size())\n",
    "for i in range(image_list.size().getInfo()):\n",
    "    img = ee.Image(image_list.get(i))\n",
    "    print_dates(img)\n",
    "    \n",
    "# Applica la funzione a tutte le immagini della collezione\n",
    "s1col.aggregate_array('system:time_start').getInfo()\n",
    "\n",
    "# Stampa le date in formato leggibile\n",
    "image_list = s1col.toList(s1col.size())\n",
    "for i in range(image_list.size().getInfo()):\n",
    "    img = ee.Image(image_list.get(i))\n",
    "    print_dates(img)"
   ]
  },
  {
   "cell_type": "code",
   "execution_count": 56,
   "metadata": {},
   "outputs": [
    {
     "name": "stdout",
     "output_type": "stream",
     "text": [
      "ee.Image({\n",
      "  \"functionInvocationValue\": {\n",
      "    \"functionName\": \"Image.clip\",\n",
      "    \"arguments\": {\n",
      "      \"geometry\": {\n",
      "        \"functionInvocationValue\": {\n",
      "          \"functionName\": \"GeometryConstructors.Polygon\",\n",
      "          \"arguments\": {\n",
      "            \"coordinates\": {\n",
      "              \"constantValue\": [\n",
      "                [\n",
      "                  [\n",
      "                    162.60364609374085,\n",
      "                    -74.40460164467032\n",
      "                  ],\n",
      "                  [\n",
      "                    162.60364609374085,\n",
      "                    -75.000991993123\n",
      "                  ],\n",
      "                  [\n",
      "                    164.37150349717916,\n",
      "                    -75.000991993123\n",
      "                  ],\n",
      "                  [\n",
      "                    164.37150349717916,\n",
      "                    -74.40460164467032\n",
      "                  ]\n",
      "                ]\n",
      "              ]\n",
      "            },\n",
      "            \"geodesic\": {\n",
      "              \"constantValue\": false\n",
      "            }\n",
      "          }\n",
      "        }\n",
      "      },\n",
      "      \"input\": {\n",
      "        \"functionInvocationValue\": {\n",
      "          \"functionName\": \"List.get\",\n",
      "          \"arguments\": {\n",
      "            \"index\": {\n",
      "              \"constantValue\": 4\n",
      "            },\n",
      "            \"list\": {\n",
      "              \"functionInvocationValue\": {\n",
      "                \"functionName\": \"Collection.toList\",\n",
      "                \"arguments\": {\n",
      "                  \"collection\": {\n",
      "                    \"functionInvocationValue\": {\n",
      "                      \"functionName\": \"Collection.filter\",\n",
      "                      \"arguments\": {\n",
      "                        \"collection\": {\n",
      "                          \"functionInvocationValue\": {\n",
      "                            \"functionName\": \"Collection.filter\",\n",
      "                            \"arguments\": {\n",
      "                              \"collection\": {\n",
      "                                \"functionInvocationValue\": {\n",
      "                                  \"functionName\": \"Collection.filter\",\n",
      "                                  \"arguments\": {\n",
      "                                    \"collection\": {\n",
      "                                      \"functionInvocationValue\": {\n",
      "                                        \"functionName\": \"ImageCollection.load\",\n",
      "                                        \"arguments\": {\n",
      "                                          \"id\": {\n",
      "                                            \"constantValue\": \"COPERNICUS/S1_GRD\"\n",
      "                                          }\n",
      "                                        }\n",
      "                                      }\n",
      "                                    },\n",
      "                                    \"filter\": {\n",
      "                                      \"functionInvocationValue\": {\n",
      "                                        \"functionName\": \"Filter.intersects\",\n",
      "                                        \"arguments\": {\n",
      "                                          \"leftField\": {\n",
      "                                            \"constantValue\": \".all\"\n",
      "                                          },\n",
      "                                          \"rightValue\": {\n",
      "                                            \"functionInvocationValue\": {\n",
      "                                              \"functionName\": \"Feature\",\n",
      "                                              \"arguments\": {\n",
      "                                                \"geometry\": {\n",
      "                                                  \"functionInvocationValue\": {\n",
      "                                                    \"functionName\": \"GeometryConstructors.Polygon\",\n",
      "                                                    \"arguments\": {\n",
      "                                                      \"coordinates\": {\n",
      "                                                        \"constantValue\": [\n",
      "                                                          [\n",
      "                                                            [\n",
      "                                                              162.60364609374085,\n",
      "                                                              -74.40460164467032\n",
      "                                                            ],\n",
      "                                                            [\n",
      "                                                              162.60364609374085,\n",
      "                                                              -75.000991993123\n",
      "                                                            ],\n",
      "                                                            [\n",
      "                                                              164.37150349717916,\n",
      "                                                              -75.000991993123\n",
      "                                                            ],\n",
      "                                                            [\n",
      "                                                              164.37150349717916,\n",
      "                                                              -74.40460164467032\n",
      "                                                            ]\n",
      "                                                          ]\n",
      "                                                        ]\n",
      "                                                      },\n",
      "                                                      \"geodesic\": {\n",
      "                                                        \"constantValue\": false\n",
      "                                                      }\n",
      "                                                    }\n",
      "                                                  }\n",
      "                                                }\n",
      "                                              }\n",
      "                                            }\n",
      "                                          }\n",
      "                                        }\n",
      "                                      }\n",
      "                                    }\n",
      "                                  }\n",
      "                                }\n",
      "                              },\n",
      "                              \"filter\": {\n",
      "                                \"functionInvocationValue\": {\n",
      "                                  \"functionName\": \"Filter.dateRangeContains\",\n",
      "                                  \"arguments\": {\n",
      "                                    \"leftValue\": {\n",
      "                                      \"functionInvocationValue\": {\n",
      "                                        \"functionName\": \"DateRange\",\n",
      "                                        \"arguments\": {\n",
      "                                          \"end\": {\n",
      "                                            \"functionInvocationValue\": {\n",
      "                                              \"functionName\": \"Date\",\n",
      "                                              \"arguments\": {\n",
      "                                                \"value\": {\n",
      "                                                  \"constantValue\": \"2022-12-26\"\n",
      "                                                }\n",
      "                                              }\n",
      "                                            }\n",
      "                                          },\n",
      "                                          \"start\": {\n",
      "                                            \"functionInvocationValue\": {\n",
      "                                              \"functionName\": \"Date\",\n",
      "                                              \"arguments\": {\n",
      "                                                \"value\": {\n",
      "                                                  \"constantValue\": \"2022-12-10\"\n",
      "                                                }\n",
      "                                              }\n",
      "                                            }\n",
      "                                          }\n",
      "                                        }\n",
      "                                      }\n",
      "                                    },\n",
      "                                    \"rightField\": {\n",
      "                                      \"constantValue\": \"system:time_start\"\n",
      "                                    }\n",
      "                                  }\n",
      "                                }\n",
      "                              }\n",
      "                            }\n",
      "                          }\n",
      "                        },\n",
      "                        \"filter\": {\n",
      "                          \"functionInvocationValue\": {\n",
      "                            \"functionName\": \"Filter.equals\",\n",
      "                            \"arguments\": {\n",
      "                              \"leftField\": {\n",
      "                                \"constantValue\": \"instrumentMode\"\n",
      "                              },\n",
      "                              \"rightValue\": {\n",
      "                                \"constantValue\": \"IW\"\n",
      "                              }\n",
      "                            }\n",
      "                          }\n",
      "                        }\n",
      "                      }\n",
      "                    }\n",
      "                  },\n",
      "                  \"count\": {\n",
      "                    \"functionInvocationValue\": {\n",
      "                      \"functionName\": \"Collection.size\",\n",
      "                      \"arguments\": {\n",
      "                        \"collection\": {\n",
      "                          \"functionInvocationValue\": {\n",
      "                            \"functionName\": \"Collection.filter\",\n",
      "                            \"arguments\": {\n",
      "                              \"collection\": {\n",
      "                                \"functionInvocationValue\": {\n",
      "                                  \"functionName\": \"Collection.filter\",\n",
      "                                  \"arguments\": {\n",
      "                                    \"collection\": {\n",
      "                                      \"functionInvocationValue\": {\n",
      "                                        \"functionName\": \"Collection.filter\",\n",
      "                                        \"arguments\": {\n",
      "                                          \"collection\": {\n",
      "                                            \"functionInvocationValue\": {\n",
      "                                              \"functionName\": \"ImageCollection.load\",\n",
      "                                              \"arguments\": {\n",
      "                                                \"id\": {\n",
      "                                                  \"constantValue\": \"COPERNICUS/S1_GRD\"\n",
      "                                                }\n",
      "                                              }\n",
      "                                            }\n",
      "                                          },\n",
      "                                          \"filter\": {\n",
      "                                            \"functionInvocationValue\": {\n",
      "                                              \"functionName\": \"Filter.intersects\",\n",
      "                                              \"arguments\": {\n",
      "                                                \"leftField\": {\n",
      "                                                  \"constantValue\": \".all\"\n",
      "                                                },\n",
      "                                                \"rightValue\": {\n",
      "                                                  \"functionInvocationValue\": {\n",
      "                                                    \"functionName\": \"Feature\",\n",
      "                                                    \"arguments\": {\n",
      "                                                      \"geometry\": {\n",
      "                                                        \"functionInvocationValue\": {\n",
      "                                                          \"functionName\": \"GeometryConstructors.Polygon\",\n",
      "                                                          \"arguments\": {\n",
      "                                                            \"coordinates\": {\n",
      "                                                              \"constantValue\": [\n",
      "                                                                [\n",
      "                                                                  [\n",
      "                                                                    162.60364609374085,\n",
      "                                                                    -74.40460164467032\n",
      "                                                                  ],\n",
      "                                                                  [\n",
      "                                                                    162.60364609374085,\n",
      "                                                                    -75.000991993123\n",
      "                                                                  ],\n",
      "                                                                  [\n",
      "                                                                    164.37150349717916,\n",
      "                                                                    -75.000991993123\n",
      "                                                                  ],\n",
      "                                                                  [\n",
      "                                                                    164.37150349717916,\n",
      "                                                                    -74.40460164467032\n",
      "                                                                  ]\n",
      "                                                                ]\n",
      "                                                              ]\n",
      "                                                            },\n",
      "                                                            \"geodesic\": {\n",
      "                                                              \"constantValue\": false\n",
      "                                                            }\n",
      "                                                          }\n",
      "                                                        }\n",
      "                                                      }\n",
      "                                                    }\n",
      "                                                  }\n",
      "                                                }\n",
      "                                              }\n",
      "                                            }\n",
      "                                          }\n",
      "                                        }\n",
      "                                      }\n",
      "                                    },\n",
      "                                    \"filter\": {\n",
      "                                      \"functionInvocationValue\": {\n",
      "                                        \"functionName\": \"Filter.dateRangeContains\",\n",
      "                                        \"arguments\": {\n",
      "                                          \"leftValue\": {\n",
      "                                            \"functionInvocationValue\": {\n",
      "                                              \"functionName\": \"DateRange\",\n",
      "                                              \"arguments\": {\n",
      "                                                \"end\": {\n",
      "                                                  \"functionInvocationValue\": {\n",
      "                                                    \"functionName\": \"Date\",\n",
      "                                                    \"arguments\": {\n",
      "                                                      \"value\": {\n",
      "                                                        \"constantValue\": \"2022-12-26\"\n",
      "                                                      }\n",
      "                                                    }\n",
      "                                                  }\n",
      "                                                },\n",
      "                                                \"start\": {\n",
      "                                                  \"functionInvocationValue\": {\n",
      "                                                    \"functionName\": \"Date\",\n",
      "                                                    \"arguments\": {\n",
      "                                                      \"value\": {\n",
      "                                                        \"constantValue\": \"2022-12-10\"\n",
      "                                                      }\n",
      "                                                    }\n",
      "                                                  }\n",
      "                                                }\n",
      "                                              }\n",
      "                                            }\n",
      "                                          },\n",
      "                                          \"rightField\": {\n",
      "                                            \"constantValue\": \"system:time_start\"\n",
      "                                          }\n",
      "                                        }\n",
      "                                      }\n",
      "                                    }\n",
      "                                  }\n",
      "                                }\n",
      "                              },\n",
      "                              \"filter\": {\n",
      "                                \"functionInvocationValue\": {\n",
      "                                  \"functionName\": \"Filter.equals\",\n",
      "                                  \"arguments\": {\n",
      "                                    \"leftField\": {\n",
      "                                      \"constantValue\": \"instrumentMode\"\n",
      "                                    },\n",
      "                                    \"rightValue\": {\n",
      "                                      \"constantValue\": \"IW\"\n",
      "                                    }\n",
      "                                  }\n",
      "                                }\n",
      "                              }\n",
      "                            }\n",
      "                          }\n",
      "                        }\n",
      "                      }\n",
      "                    }\n",
      "                  }\n",
      "                }\n",
      "              }\n",
      "            }\n",
      "          }\n",
      "        }\n",
      "      }\n",
      "    }\n",
      "  }\n",
      "})\n"
     ]
    }
   ],
   "source": [
    "# vedo la terza\n",
    "# Prendi la seconda immagine della collezione\n",
    "s1sec = ee.Image(image_list.get(4))  # Gli indici partono da 0, quindi 1 per la seconda immagine\n",
    "s1sec = s1sec.clip(roi)\n",
    "\n",
    "print(s1sec)\n"
   ]
  },
  {
   "cell_type": "code",
   "execution_count": 57,
   "metadata": {},
   "outputs": [
    {
     "ename": "EEException",
     "evalue": "List.get: List index must be between 0 and 3, or -4 and -1. Found 4.",
     "output_type": "error",
     "traceback": [
      "\u001b[1;31m---------------------------------------------------------------------------\u001b[0m",
      "\u001b[1;31mHttpError\u001b[0m                                 Traceback (most recent call last)",
      "File \u001b[1;32mc:\\ProgramData\\Anaconda3\\envs\\gee\\lib\\site-packages\\ee\\data.py:345\u001b[0m, in \u001b[0;36m_execute_cloud_call\u001b[1;34m(call, num_retries)\u001b[0m\n\u001b[0;32m    344\u001b[0m \u001b[38;5;28;01mtry\u001b[39;00m:\n\u001b[1;32m--> 345\u001b[0m   \u001b[38;5;28;01mreturn\u001b[39;00m \u001b[43mcall\u001b[49m\u001b[38;5;241;43m.\u001b[39;49m\u001b[43mexecute\u001b[49m\u001b[43m(\u001b[49m\u001b[43mnum_retries\u001b[49m\u001b[38;5;241;43m=\u001b[39;49m\u001b[43mnum_retries\u001b[49m\u001b[43m)\u001b[49m\n\u001b[0;32m    346\u001b[0m \u001b[38;5;28;01mexcept\u001b[39;00m googleapiclient\u001b[38;5;241m.\u001b[39merrors\u001b[38;5;241m.\u001b[39mHttpError \u001b[38;5;28;01mas\u001b[39;00m e:\n",
      "File \u001b[1;32mc:\\ProgramData\\Anaconda3\\envs\\gee\\lib\\site-packages\\googleapiclient\\_helpers.py:130\u001b[0m, in \u001b[0;36mpositional.<locals>.positional_decorator.<locals>.positional_wrapper\u001b[1;34m(*args, **kwargs)\u001b[0m\n\u001b[0;32m    129\u001b[0m         logger\u001b[38;5;241m.\u001b[39mwarning(message)\n\u001b[1;32m--> 130\u001b[0m \u001b[38;5;28;01mreturn\u001b[39;00m wrapped(\u001b[38;5;241m*\u001b[39margs, \u001b[38;5;241m*\u001b[39m\u001b[38;5;241m*\u001b[39mkwargs)\n",
      "File \u001b[1;32mc:\\ProgramData\\Anaconda3\\envs\\gee\\lib\\site-packages\\googleapiclient\\http.py:938\u001b[0m, in \u001b[0;36mHttpRequest.execute\u001b[1;34m(self, http, num_retries)\u001b[0m\n\u001b[0;32m    937\u001b[0m \u001b[38;5;28;01mif\u001b[39;00m resp\u001b[38;5;241m.\u001b[39mstatus \u001b[38;5;241m>\u001b[39m\u001b[38;5;241m=\u001b[39m \u001b[38;5;241m300\u001b[39m:\n\u001b[1;32m--> 938\u001b[0m     \u001b[38;5;28;01mraise\u001b[39;00m HttpError(resp, content, uri\u001b[38;5;241m=\u001b[39m\u001b[38;5;28mself\u001b[39m\u001b[38;5;241m.\u001b[39muri)\n\u001b[0;32m    939\u001b[0m \u001b[38;5;28;01mreturn\u001b[39;00m \u001b[38;5;28mself\u001b[39m\u001b[38;5;241m.\u001b[39mpostproc(resp, content)\n",
      "\u001b[1;31mHttpError\u001b[0m: <HttpError 400 when requesting https://earthengine.googleapis.com/v1alpha/projects/earthengine-legacy/value:compute?prettyPrint=false&alt=json returned \"List.get: List index must be between 0 and 3, or -4 and -1. Found 4.\". Details: \"List.get: List index must be between 0 and 3, or -4 and -1. Found 4.\">",
      "\nDuring handling of the above exception, another exception occurred:\n",
      "\u001b[1;31mEEException\u001b[0m                               Traceback (most recent call last)",
      "Cell \u001b[1;32mIn[57], line 1\u001b[0m\n\u001b[1;32m----> 1\u001b[0m band_names \u001b[38;5;241m=\u001b[39m \u001b[43ms1sec\u001b[49m\u001b[38;5;241;43m.\u001b[39;49m\u001b[43mbandNames\u001b[49m\u001b[43m(\u001b[49m\u001b[43m)\u001b[49m\u001b[38;5;241;43m.\u001b[39;49m\u001b[43mgetInfo\u001b[49m\u001b[43m(\u001b[49m\u001b[43m)\u001b[49m\n\u001b[0;32m      2\u001b[0m \u001b[38;5;28mprint\u001b[39m(\u001b[38;5;124m\"\u001b[39m\u001b[38;5;124mBande disponibili:\u001b[39m\u001b[38;5;124m\"\u001b[39m, band_names)\n",
      "File \u001b[1;32mc:\\ProgramData\\Anaconda3\\envs\\gee\\lib\\site-packages\\ee\\computedobject.py:96\u001b[0m, in \u001b[0;36mComputedObject.getInfo\u001b[1;34m(self)\u001b[0m\n\u001b[0;32m     90\u001b[0m \u001b[38;5;28;01mdef\u001b[39;00m \u001b[38;5;21mgetInfo\u001b[39m(\u001b[38;5;28mself\u001b[39m):\n\u001b[0;32m     91\u001b[0m \u001b[38;5;250m  \u001b[39m\u001b[38;5;124;03m\"\"\"Fetch and return information about this object.\u001b[39;00m\n\u001b[0;32m     92\u001b[0m \n\u001b[0;32m     93\u001b[0m \u001b[38;5;124;03m  Returns:\u001b[39;00m\n\u001b[0;32m     94\u001b[0m \u001b[38;5;124;03m    The object can evaluate to anything.\u001b[39;00m\n\u001b[0;32m     95\u001b[0m \u001b[38;5;124;03m  \"\"\"\u001b[39;00m\n\u001b[1;32m---> 96\u001b[0m   \u001b[38;5;28;01mreturn\u001b[39;00m \u001b[43mdata\u001b[49m\u001b[38;5;241;43m.\u001b[39;49m\u001b[43mcomputeValue\u001b[49m\u001b[43m(\u001b[49m\u001b[38;5;28;43mself\u001b[39;49m\u001b[43m)\u001b[49m\n",
      "File \u001b[1;32mc:\\ProgramData\\Anaconda3\\envs\\gee\\lib\\site-packages\\ee\\data.py:954\u001b[0m, in \u001b[0;36mcomputeValue\u001b[1;34m(obj)\u001b[0m\n\u001b[0;32m    951\u001b[0m body \u001b[38;5;241m=\u001b[39m {\u001b[38;5;124m'\u001b[39m\u001b[38;5;124mexpression\u001b[39m\u001b[38;5;124m'\u001b[39m: serializer\u001b[38;5;241m.\u001b[39mencode(obj, for_cloud_api\u001b[38;5;241m=\u001b[39m\u001b[38;5;28;01mTrue\u001b[39;00m)}\n\u001b[0;32m    952\u001b[0m _maybe_populate_workload_tag(body)\n\u001b[1;32m--> 954\u001b[0m \u001b[38;5;28;01mreturn\u001b[39;00m \u001b[43m_execute_cloud_call\u001b[49m\u001b[43m(\u001b[49m\n\u001b[0;32m    955\u001b[0m \u001b[43m    \u001b[49m\u001b[43m_get_cloud_projects\u001b[49m\u001b[43m(\u001b[49m\u001b[43m)\u001b[49m\n\u001b[0;32m    956\u001b[0m \u001b[43m    \u001b[49m\u001b[38;5;241;43m.\u001b[39;49m\u001b[43mvalue\u001b[49m\u001b[43m(\u001b[49m\u001b[43m)\u001b[49m\n\u001b[0;32m    957\u001b[0m \u001b[43m    \u001b[49m\u001b[38;5;241;43m.\u001b[39;49m\u001b[43mcompute\u001b[49m\u001b[43m(\u001b[49m\u001b[43mbody\u001b[49m\u001b[38;5;241;43m=\u001b[39;49m\u001b[43mbody\u001b[49m\u001b[43m,\u001b[49m\u001b[43m \u001b[49m\u001b[43mproject\u001b[49m\u001b[38;5;241;43m=\u001b[39;49m\u001b[43m_get_projects_path\u001b[49m\u001b[43m(\u001b[49m\u001b[43m)\u001b[49m\u001b[43m,\u001b[49m\u001b[43m \u001b[49m\u001b[43mprettyPrint\u001b[49m\u001b[38;5;241;43m=\u001b[39;49m\u001b[38;5;28;43;01mFalse\u001b[39;49;00m\u001b[43m)\u001b[49m\n\u001b[0;32m    958\u001b[0m \u001b[43m\u001b[49m\u001b[43m)\u001b[49m[\u001b[38;5;124m'\u001b[39m\u001b[38;5;124mresult\u001b[39m\u001b[38;5;124m'\u001b[39m]\n",
      "File \u001b[1;32mc:\\ProgramData\\Anaconda3\\envs\\gee\\lib\\site-packages\\ee\\data.py:347\u001b[0m, in \u001b[0;36m_execute_cloud_call\u001b[1;34m(call, num_retries)\u001b[0m\n\u001b[0;32m    345\u001b[0m   \u001b[38;5;28;01mreturn\u001b[39;00m call\u001b[38;5;241m.\u001b[39mexecute(num_retries\u001b[38;5;241m=\u001b[39mnum_retries)\n\u001b[0;32m    346\u001b[0m \u001b[38;5;28;01mexcept\u001b[39;00m googleapiclient\u001b[38;5;241m.\u001b[39merrors\u001b[38;5;241m.\u001b[39mHttpError \u001b[38;5;28;01mas\u001b[39;00m e:\n\u001b[1;32m--> 347\u001b[0m   \u001b[38;5;28;01mraise\u001b[39;00m _translate_cloud_exception(e)\n",
      "\u001b[1;31mEEException\u001b[0m: List.get: List index must be between 0 and 3, or -4 and -1. Found 4."
     ]
    }
   ],
   "source": [
    "band_names = s1sec.bandNames().getInfo()\n",
    "print(\"Bande disponibili:\", band_names)"
   ]
  },
  {
   "cell_type": "code",
   "execution_count": 58,
   "metadata": {},
   "outputs": [
    {
     "data": {
      "application/vnd.jupyter.widget-view+json": {
       "model_id": "84f9eef3f41c405fb330eaab35dc499c",
       "version_major": 2,
       "version_minor": 0
      },
      "text/plain": [
       "Map(bottom=108064.0, center=[-74.95083630838428, 163.07830810546875], controls=(WidgetControl(options=['positi…"
      ]
     },
     "metadata": {},
     "output_type": "display_data"
    }
   ],
   "source": [
    "s1sec = ee.Image(image_list.get(0))  # Gli indici partono da 0, quindi 1 per la seconda immagine\n",
    "s1sec = s1sec.clip(roi)\n",
    "\n",
    "# Visualizzazione dell'immagine SAR: solo la banda \"HH\"\n",
    "sar_viz_params_hh = {\n",
    "    'min': -30,\n",
    "    'max': 0,\n",
    "    'bands': ['HH'],\n",
    "    'gamma': 1.5\n",
    "}\n",
    "\n",
    "# Aggiungi la banda \"HH\" alla mappa\n",
    "m.addLayer(s1sec, sar_viz_params_hh, 'Third Sentinel-1 Image (HH)')\n",
    "\n",
    "# Mostra la mappa\n",
    "m"
   ]
  },
  {
   "cell_type": "code",
   "execution_count": 59,
   "metadata": {},
   "outputs": [
    {
     "name": "stdout",
     "output_type": "stream",
     "text": [
      "2022-12-12 15:38:07\n"
     ]
    }
   ],
   "source": [
    "# print date od s1sec\n",
    "print_dates(s1sec)"
   ]
  },
  {
   "cell_type": "code",
   "execution_count": 60,
   "metadata": {},
   "outputs": [
    {
     "name": "stderr",
     "output_type": "stream",
     "text": [
      "Consider adjusting `region`, `scale` and/or `dtype` to reduce the S1_20221212_10m.tif download size (raw: 2.09 GB).\n"
     ]
    },
    {
     "data": {
      "application/vnd.jupyter.widget-view+json": {
       "model_id": "c3ba622ead2f496da812111fea3bf0ca",
       "version_major": 2,
       "version_minor": 0
      },
      "text/plain": [
       "S1_20221212_10m.tif: |          | 0.00/2.09G (raw) [  0.0%] in 00:00 (eta:     ?)"
      ]
     },
     "metadata": {},
     "output_type": "display_data"
    }
   ],
   "source": [
    "# define out_dir\n",
    "out_dir = os.path.expanduser('D:\\\\Dropbox\\R_projects\\HOLISTIC\\\\out')\n",
    "\n",
    "out_dir\n",
    "\n",
    "# define filename with the out_dir\n",
    "filename = os.path.join(out_dir, 'S1_20221212_10m.tif')\n",
    "geemap.download_ee_image(s1sec, filename= filename, scale=10, region = roi, crs='EPSG:4326')\n"
   ]
  }
 ],
 "metadata": {
  "kernelspec": {
   "display_name": "gee",
   "language": "python",
   "name": "python3"
  },
  "language_info": {
   "codemirror_mode": {
    "name": "ipython",
    "version": 3
   },
   "file_extension": ".py",
   "mimetype": "text/x-python",
   "name": "python",
   "nbconvert_exporter": "python",
   "pygments_lexer": "ipython3",
   "version": "3.10.11"
  }
 },
 "nbformat": 4,
 "nbformat_minor": 2
}
